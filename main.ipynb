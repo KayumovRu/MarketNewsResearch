{
 "cells": [
  {
   "cell_type": "markdown",
   "metadata": {},
   "source": [
    "## 0. Описание\n",
    "\n",
    "Входные данные:\n",
    "- Парсятся данные рыночных новостей из календаря\n",
    "- Котировки загружаются из источника одномоментно\n",
    "\n",
    "Далее\n",
    "..."
   ]
  },
  {
   "cell_type": "code",
   "execution_count": 204,
   "metadata": {},
   "outputs": [],
   "source": [
    "import time\n",
    "import pandas as pd\n",
    "import seaborn as sns\n",
    "import numpy as np\n",
    "\n",
    "import warnings\n",
    "warnings.filterwarnings(\"ignore\")"
   ]
  },
  {
   "cell_type": "markdown",
   "metadata": {},
   "source": [
    "## 1. Парсер календаря\n",
    "\n",
    "* Парсим календарь экономических новостей по [ссылке](https://www.fxstreet.com/economic-calendar)\n",
    "* Для работы с js-генерируемым содержимым используем Selenium\n",
    "* Используем возможность выгрузки сформированного календаря в csv тоже через selenium (но в дальнейшем лучше спарсить данные напрямую без выгрузки, это позволяет получить больше данных и оправдывает использованием парсинга)"
   ]
  },
  {
   "cell_type": "code",
   "execution_count": 4,
   "metadata": {},
   "outputs": [],
   "source": [
    "from selenium.webdriver import Chrome\n",
    "from selenium.webdriver.support.ui import WebDriverWait\n",
    "\n",
    "URL = 'https://www.fxstreet.com/economic-calendar'"
   ]
  },
  {
   "cell_type": "code",
   "execution_count": 5,
   "metadata": {},
   "outputs": [],
   "source": [
    "bro = Chrome()\n",
    "\n",
    "try:\n",
    "    bro.get(URL)\n",
    "    WebDriverWait(bro, timeout=10).until(lambda x: x.find_element_by_class_name('fxs_prestitial-continue'))\n",
    "\n",
    "    # прокликиваем начальный баннер\n",
    "    bro.find_element_by_class_name('fxs_prestitial-continue').click()\n",
    "\n",
    "    # жмем на иконку календаря\n",
    "    bro.find_element_by_class_name('fa-calendar-alt').click()\n",
    "\n",
    "    #выбор начала периода (1.01.2020) - area begin календаря\n",
    "    bro.find_element_by_xpath(\"//div[@class='fxs_c_datePicker_begin_calendar_area']/\\\n",
    "        select[@name='year']/option[text()='2020']\").click()\n",
    "    bro.find_element_by_xpath(\"//div[@class='fxs_c_datePicker_begin_calendar_area']/\\\n",
    "        select[@name='month']/option[text()='January']\").click()\n",
    "    #класс --start стоит внутри area begin как раз на первом числе месяца\n",
    "    bro.find_element_by_xpath(\"//div[@class='fxs_c_datePicker_begin_calendar_area']/\\\n",
    "        div[@class='DayPicker-Day--start']\").click()\n",
    "\n",
    "    #выбор конца периода (31.12.2020) - area end календаря\n",
    "    bro.find_element_by_xpath(\"//div[@class='fxs_c_datePicker_end_calendar_area']/\\\n",
    "        select[@name='year']/option[text()='2020']\").click()\n",
    "    bro.find_element_by_xpath(\"//div[@class='fxs_c_datePicker_end_calendar_area']/\\\n",
    "        select[@name='month']/option[text()='December']\").click()\n",
    "    #класс --end стоит внутри area begin как раз на последнем числе месяца\n",
    "    bro.find_element_by_xpath(\"//div[@class='fxs_c_datePicker_end_calendar_area']/\\\n",
    "        div[@class='DayPicker-Day--end']\").click()\n",
    "\n",
    "    # часовой пояс устраивает, т.к. по умолчанию GMT, как и котировки\n",
    "\n",
    "    # жмем на кнопку Apply\n",
    "    bro.find_element_by_class('fxs_btn_cta').click()\n",
    "\n",
    "    #ждем довольно долго через обычный слип, т.к. нужно время на формирование календаря за год\n",
    "    time.sleep(50)\n",
    "\n",
    "    # пользуемся кнопкой выгрузки в csv на календаре, жмем на нее и затем на формат CSV\n",
    "    # (в идеале потом хотелось бы не через нее, т.к. часть данных теряется)\n",
    "    bro.find_element_by_class_name('fa-download').click()\n",
    "    bro.find_element_by_class_name('fa-file-csv').click()\n",
    "except:\n",
    "    print('Что-то пошло не так')"
   ]
  },
  {
   "cell_type": "markdown",
   "metadata": {},
   "source": [
    "Данные загружаются в пользовательскую папку Загрузки. Название calendar-event-list.csv\n",
    "Переносим его в /input, затем выгружаем в df и обрабатываем.\n",
    "Оставляем при этом только новости, относящиеся к валютам EUR или USD, т.к. сравнивать будем с влиянием именно на пару EUR/USD."
   ]
  },
  {
   "cell_type": "code",
   "execution_count": 119,
   "metadata": {},
   "outputs": [
    {
     "data": {
      "text/html": [
       "<div>\n",
       "<style scoped>\n",
       "    .dataframe tbody tr th:only-of-type {\n",
       "        vertical-align: middle;\n",
       "    }\n",
       "\n",
       "    .dataframe tbody tr th {\n",
       "        vertical-align: top;\n",
       "    }\n",
       "\n",
       "    .dataframe thead th {\n",
       "        text-align: right;\n",
       "    }\n",
       "</style>\n",
       "<table border=\"1\" class=\"dataframe\">\n",
       "  <thead>\n",
       "    <tr style=\"text-align: right;\">\n",
       "      <th></th>\n",
       "      <th>title</th>\n",
       "      <th>impact</th>\n",
       "      <th>currency</th>\n",
       "    </tr>\n",
       "    <tr>\n",
       "      <th>datetime</th>\n",
       "      <th></th>\n",
       "      <th></th>\n",
       "      <th></th>\n",
       "    </tr>\n",
       "  </thead>\n",
       "  <tbody>\n",
       "    <tr>\n",
       "      <th>2020-01-01 05:00:00</th>\n",
       "      <td>New Year's Day</td>\n",
       "      <td>NONE</td>\n",
       "      <td>USD</td>\n",
       "    </tr>\n",
       "    <tr>\n",
       "      <th>2020-01-02 08:15:00</th>\n",
       "      <td>Markit Manufacturing PMI</td>\n",
       "      <td>LOW</td>\n",
       "      <td>EUR</td>\n",
       "    </tr>\n",
       "    <tr>\n",
       "      <th>2020-01-02 08:45:00</th>\n",
       "      <td>Markit Manufacturing PMI</td>\n",
       "      <td>LOW</td>\n",
       "      <td>EUR</td>\n",
       "    </tr>\n",
       "    <tr>\n",
       "      <th>2020-01-02 08:50:00</th>\n",
       "      <td>Markit Manufacturing PMI</td>\n",
       "      <td>LOW</td>\n",
       "      <td>EUR</td>\n",
       "    </tr>\n",
       "    <tr>\n",
       "      <th>2020-01-02 08:55:00</th>\n",
       "      <td>Markit Manufacturing PMI</td>\n",
       "      <td>MEDIUM</td>\n",
       "      <td>EUR</td>\n",
       "    </tr>\n",
       "  </tbody>\n",
       "</table>\n",
       "</div>"
      ],
      "text/plain": [
       "                                        title  impact currency\n",
       "datetime                                                      \n",
       "2020-01-01 05:00:00            New Year's Day    NONE      USD\n",
       "2020-01-02 08:15:00  Markit Manufacturing PMI     LOW      EUR\n",
       "2020-01-02 08:45:00  Markit Manufacturing PMI     LOW      EUR\n",
       "2020-01-02 08:50:00  Markit Manufacturing PMI     LOW      EUR\n",
       "2020-01-02 08:55:00  Markit Manufacturing PMI  MEDIUM      EUR"
      ]
     },
     "execution_count": 119,
     "metadata": {},
     "output_type": "execute_result"
    }
   ],
   "source": [
    "news = pd.read_csv('input/calendar-event-list.csv')\n",
    "news['datetime'] = pd.to_datetime(news['Start'])\n",
    "news = news.drop(columns=['Start', 'Id'])\n",
    "news.columns = ['title', 'impact', 'currency', 'datetime']\n",
    "news = news[(news.currency=='EUR') | (news.currency=='USD')]\n",
    "news = news.set_index('datetime')\n",
    "news.head()"
   ]
  },
  {
   "cell_type": "code",
   "execution_count": 98,
   "metadata": {},
   "outputs": [
    {
     "data": {
      "text/plain": [
       "title       False\n",
       "impact      False\n",
       "currency    False\n",
       "dtype: bool"
      ]
     },
     "execution_count": 98,
     "metadata": {},
     "output_type": "execute_result"
    }
   ],
   "source": [
    "# проверка на пропуски\n",
    "news.isnull().any()"
   ]
  },
  {
   "cell_type": "markdown",
   "metadata": {},
   "source": [
    "## 2. Получение котировок\n",
    "\n",
    "Для данного исследования одномоментно закачиваются котировки EUR/USD в таймфрейме М1 за 2020 год (одна строка содержит данные о минутном баре в формате OHLC).\n",
    "\n",
    "Источник котировок - [Dikascopy](https://www.dukascopy.com/swiss/russian/marketwatch/historical/)"
   ]
  },
  {
   "cell_type": "code",
   "execution_count": 42,
   "metadata": {},
   "outputs": [
    {
     "name": "stdout",
     "output_type": "stream",
     "text": [
      "Wall time: 1.72 s\n"
     ]
    },
    {
     "data": {
      "text/html": [
       "<div>\n",
       "<style scoped>\n",
       "    .dataframe tbody tr th:only-of-type {\n",
       "        vertical-align: middle;\n",
       "    }\n",
       "\n",
       "    .dataframe tbody tr th {\n",
       "        vertical-align: top;\n",
       "    }\n",
       "\n",
       "    .dataframe thead th {\n",
       "        text-align: right;\n",
       "    }\n",
       "</style>\n",
       "<table border=\"1\" class=\"dataframe\">\n",
       "  <thead>\n",
       "    <tr style=\"text-align: right;\">\n",
       "      <th></th>\n",
       "      <th>Open</th>\n",
       "      <th>High</th>\n",
       "      <th>Low</th>\n",
       "      <th>Close</th>\n",
       "      <th>Volume</th>\n",
       "    </tr>\n",
       "    <tr>\n",
       "      <th>date</th>\n",
       "      <th></th>\n",
       "      <th></th>\n",
       "      <th></th>\n",
       "      <th></th>\n",
       "      <th></th>\n",
       "    </tr>\n",
       "  </thead>\n",
       "  <tbody>\n",
       "    <tr>\n",
       "      <th>2020-01-01 00:00:00</th>\n",
       "      <td>1.12076</td>\n",
       "      <td>1.12076</td>\n",
       "      <td>1.12076</td>\n",
       "      <td>1.12076</td>\n",
       "      <td>0.0</td>\n",
       "    </tr>\n",
       "    <tr>\n",
       "      <th>2020-01-01 00:01:00</th>\n",
       "      <td>1.12076</td>\n",
       "      <td>1.12076</td>\n",
       "      <td>1.12076</td>\n",
       "      <td>1.12076</td>\n",
       "      <td>0.0</td>\n",
       "    </tr>\n",
       "    <tr>\n",
       "      <th>2020-01-01 00:02:00</th>\n",
       "      <td>1.12076</td>\n",
       "      <td>1.12076</td>\n",
       "      <td>1.12076</td>\n",
       "      <td>1.12076</td>\n",
       "      <td>0.0</td>\n",
       "    </tr>\n",
       "    <tr>\n",
       "      <th>2020-01-01 00:03:00</th>\n",
       "      <td>1.12076</td>\n",
       "      <td>1.12076</td>\n",
       "      <td>1.12076</td>\n",
       "      <td>1.12076</td>\n",
       "      <td>0.0</td>\n",
       "    </tr>\n",
       "    <tr>\n",
       "      <th>2020-01-01 00:04:00</th>\n",
       "      <td>1.12076</td>\n",
       "      <td>1.12076</td>\n",
       "      <td>1.12076</td>\n",
       "      <td>1.12076</td>\n",
       "      <td>0.0</td>\n",
       "    </tr>\n",
       "  </tbody>\n",
       "</table>\n",
       "</div>"
      ],
      "text/plain": [
       "                        Open     High      Low    Close  Volume\n",
       "date                                                           \n",
       "2020-01-01 00:00:00  1.12076  1.12076  1.12076  1.12076     0.0\n",
       "2020-01-01 00:01:00  1.12076  1.12076  1.12076  1.12076     0.0\n",
       "2020-01-01 00:02:00  1.12076  1.12076  1.12076  1.12076     0.0\n",
       "2020-01-01 00:03:00  1.12076  1.12076  1.12076  1.12076     0.0\n",
       "2020-01-01 00:04:00  1.12076  1.12076  1.12076  1.12076     0.0"
      ]
     },
     "execution_count": 42,
     "metadata": {},
     "output_type": "execute_result"
    }
   ],
   "source": [
    "%%time\n",
    "quotes = pd.read_csv('input/eurusd_m1.csv')\n",
    "quotes['date'] = pd.to_datetime(quotes['Gmt time'], format='%d.%m.%Y %H:%M:%S.000')\n",
    "quotes = quotes.drop(columns=['Gmt time'])\n",
    "quotes = quotes.set_index('date')\n",
    "quotes.head()"
   ]
  },
  {
   "cell_type": "markdown",
   "metadata": {},
   "source": [
    "## 3. Первичный анализ\n",
    "\n",
    "В первичном анализе проведем группировку котировок по дням, расчитаем волатильность и направление. Затем выясним корреляцию расчитанных показателей и объема (Volume) в зависимости от:\n",
    "- числа новостей в день,\n",
    "- силы (impact) новости,\n",
    "- вида (title) новости,\n",
    "- валюты (currency), по которой выходит новость."
   ]
  },
  {
   "cell_type": "markdown",
   "metadata": {},
   "source": [
    "### 3.1 Подготовка котировок"
   ]
  },
  {
   "cell_type": "code",
   "execution_count": 142,
   "metadata": {},
   "outputs": [
    {
     "data": {
      "text/html": [
       "<div>\n",
       "<style scoped>\n",
       "    .dataframe tbody tr th:only-of-type {\n",
       "        vertical-align: middle;\n",
       "    }\n",
       "\n",
       "    .dataframe tbody tr th {\n",
       "        vertical-align: top;\n",
       "    }\n",
       "\n",
       "    .dataframe thead th {\n",
       "        text-align: right;\n",
       "    }\n",
       "</style>\n",
       "<table border=\"1\" class=\"dataframe\">\n",
       "  <thead>\n",
       "    <tr style=\"text-align: right;\">\n",
       "      <th></th>\n",
       "      <th>Open</th>\n",
       "      <th>High</th>\n",
       "      <th>Low</th>\n",
       "      <th>Close</th>\n",
       "      <th>Volume</th>\n",
       "      <th>volatility</th>\n",
       "      <th>uptrend</th>\n",
       "    </tr>\n",
       "    <tr>\n",
       "      <th>date</th>\n",
       "      <th></th>\n",
       "      <th></th>\n",
       "      <th></th>\n",
       "      <th></th>\n",
       "      <th></th>\n",
       "      <th></th>\n",
       "      <th></th>\n",
       "    </tr>\n",
       "  </thead>\n",
       "  <tbody>\n",
       "    <tr>\n",
       "      <th>2020-01-01</th>\n",
       "      <td>1.12076</td>\n",
       "      <td>1.12218</td>\n",
       "      <td>1.12076</td>\n",
       "      <td>1.12188</td>\n",
       "      <td>2592.0700</td>\n",
       "      <td>141</td>\n",
       "      <td>True</td>\n",
       "    </tr>\n",
       "    <tr>\n",
       "      <th>2020-01-02</th>\n",
       "      <td>1.12188</td>\n",
       "      <td>1.12245</td>\n",
       "      <td>1.11635</td>\n",
       "      <td>1.11708</td>\n",
       "      <td>487219.1160</td>\n",
       "      <td>609</td>\n",
       "      <td>False</td>\n",
       "    </tr>\n",
       "    <tr>\n",
       "      <th>2020-01-03</th>\n",
       "      <td>1.11707</td>\n",
       "      <td>1.11798</td>\n",
       "      <td>1.11249</td>\n",
       "      <td>1.11548</td>\n",
       "      <td>177406.7897</td>\n",
       "      <td>548</td>\n",
       "      <td>False</td>\n",
       "    </tr>\n",
       "    <tr>\n",
       "      <th>2020-01-04</th>\n",
       "      <td>1.11548</td>\n",
       "      <td>1.11548</td>\n",
       "      <td>1.11548</td>\n",
       "      <td>1.11548</td>\n",
       "      <td>0.0000</td>\n",
       "      <td>0</td>\n",
       "      <td>False</td>\n",
       "    </tr>\n",
       "    <tr>\n",
       "      <th>2020-01-05</th>\n",
       "      <td>1.11548</td>\n",
       "      <td>1.11677</td>\n",
       "      <td>1.11548</td>\n",
       "      <td>1.11604</td>\n",
       "      <td>4398.1000</td>\n",
       "      <td>129</td>\n",
       "      <td>True</td>\n",
       "    </tr>\n",
       "  </tbody>\n",
       "</table>\n",
       "</div>"
      ],
      "text/plain": [
       "               Open     High      Low    Close       Volume  volatility  \\\n",
       "date                                                                      \n",
       "2020-01-01  1.12076  1.12218  1.12076  1.12188    2592.0700         141   \n",
       "2020-01-02  1.12188  1.12245  1.11635  1.11708  487219.1160         609   \n",
       "2020-01-03  1.11707  1.11798  1.11249  1.11548  177406.7897         548   \n",
       "2020-01-04  1.11548  1.11548  1.11548  1.11548       0.0000           0   \n",
       "2020-01-05  1.11548  1.11677  1.11548  1.11604    4398.1000         129   \n",
       "\n",
       "            uptrend  \n",
       "date                 \n",
       "2020-01-01     True  \n",
       "2020-01-02    False  \n",
       "2020-01-03    False  \n",
       "2020-01-04    False  \n",
       "2020-01-05     True  "
      ]
     },
     "execution_count": 142,
     "metadata": {},
     "output_type": "execute_result"
    }
   ],
   "source": [
    "# группируем минутки в данные по дням\n",
    "ohlc_dict = {'Open':'first', 'High':'max', 'Low':'min', 'Close': 'last', 'Volume': 'sum'}\n",
    "#d1 = quotes.set_index('date')\n",
    "d1_quotes = quotes.resample('D').apply(ohlc_dict)\n",
    "# волатильность - амплитуду движения за день - считаем в пунктах по 5-му знаку,\n",
    "# умножая для этого на 10^5\n",
    "d1_quotes['volatility'] = (abs(d1_quotes.High - d1_quotes.Low) * 10**5).astype(int)\n",
    "# направление за день выразим в отношении к повышению\n",
    "# это True, если день закрылся выше открытия; False, если нет\n",
    "d1_quotes['uptrend'] = d1_quotes.Close > d1_quotes.Open\n",
    "d1_quotes.head()"
   ]
  },
  {
   "cell_type": "markdown",
   "metadata": {},
   "source": [
    "Посмотрим на распределение волатильности"
   ]
  },
  {
   "cell_type": "code",
   "execution_count": 143,
   "metadata": {},
   "outputs": [
    {
     "data": {
      "text/plain": [
       "<AxesSubplot:>"
      ]
     },
     "execution_count": 143,
     "metadata": {},
     "output_type": "execute_result"
    },
    {
     "data": {
      "image/png": "[encoded data removed]",
      "text/plain": [
       "<Figure size 432x288 with 1 Axes>"
      ]
     },
     "metadata": {
      "needs_background": "light"
     },
     "output_type": "display_data"
    }
   ],
   "source": [
    "d1_quotes.volatility.hist(bins=30)"
   ]
  },
  {
   "cell_type": "markdown",
   "metadata": {},
   "source": [
    "* пик в начале означает, что довольно большое кол-во дней обладают околонулевой волатильностью\n",
    "* далее данные роаспределены более \"нормально\", следующий пик показывает, что большая часть дней имеет волатильность в диапазоне 600-800 пунктов"
   ]
  },
  {
   "cell_type": "markdown",
   "metadata": {},
   "source": [
    "### 3.2 Зависимости от новостей"
   ]
  },
  {
   "cell_type": "code",
   "execution_count": 99,
   "metadata": {},
   "outputs": [
    {
     "data": {
      "text/plain": [
       "<AxesSubplot:>"
      ]
     },
     "execution_count": 99,
     "metadata": {},
     "output_type": "execute_result"
    },
    {
     "data": {
      "image/png": "[encoded data removed]",
      "text/plain": [
       "<Figure size 432x288 with 1 Axes>"
      ]
     },
     "metadata": {
      "needs_background": "light"
     },
     "output_type": "display_data"
    }
   ],
   "source": [
    "#распределение по числу разных новостей\n",
    "news.title.value_counts().hist()"
   ]
  },
  {
   "cell_type": "code",
   "execution_count": 103,
   "metadata": {},
   "outputs": [
    {
     "name": "stdout",
     "output_type": "stream",
     "text": [
      "Всего новостей: 324\n",
      "Единичных новостей: 47\n"
     ]
    }
   ],
   "source": [
    "print('Всего новостей:', (news.title.value_counts()).count())\n",
    "print('Единичных новостей:', (news.title.value_counts()==1).sum())"
   ]
  },
  {
   "cell_type": "markdown",
   "metadata": {},
   "source": [
    "Довольно много новостей, которые встречаются часто и которые можно отнести к регулярным. Но есть и уникальные новости и вероятно праздники. В дальнейшем можно с этим поработать и сгруппировать уникальные новости в подгруппы по силе и валюте.\n",
    "\n",
    "Посмотрим, как часто встречались разные по силе новости для разных валют"
   ]
  },
  {
   "cell_type": "code",
   "execution_count": 122,
   "metadata": {},
   "outputs": [
    {
     "data": {
      "text/html": [
       "<div>\n",
       "<style scoped>\n",
       "    .dataframe tbody tr th:only-of-type {\n",
       "        vertical-align: middle;\n",
       "    }\n",
       "\n",
       "    .dataframe tbody tr th {\n",
       "        vertical-align: top;\n",
       "    }\n",
       "\n",
       "    .dataframe thead th {\n",
       "        text-align: right;\n",
       "    }\n",
       "</style>\n",
       "<table border=\"1\" class=\"dataframe\">\n",
       "  <thead>\n",
       "    <tr style=\"text-align: right;\">\n",
       "      <th></th>\n",
       "      <th></th>\n",
       "      <th>count</th>\n",
       "    </tr>\n",
       "    <tr>\n",
       "      <th>currency</th>\n",
       "      <th>impact</th>\n",
       "      <th></th>\n",
       "    </tr>\n",
       "  </thead>\n",
       "  <tbody>\n",
       "    <tr>\n",
       "      <th rowspan=\"4\" valign=\"top\">EUR</th>\n",
       "      <th>HIGH</th>\n",
       "      <td>229</td>\n",
       "    </tr>\n",
       "    <tr>\n",
       "      <th>LOW</th>\n",
       "      <td>1390</td>\n",
       "    </tr>\n",
       "    <tr>\n",
       "      <th>MEDIUM</th>\n",
       "      <td>629</td>\n",
       "    </tr>\n",
       "    <tr>\n",
       "      <th>NONE</th>\n",
       "      <td>48</td>\n",
       "    </tr>\n",
       "    <tr>\n",
       "      <th rowspan=\"4\" valign=\"top\">USD</th>\n",
       "      <th>HIGH</th>\n",
       "      <td>238</td>\n",
       "    </tr>\n",
       "    <tr>\n",
       "      <th>LOW</th>\n",
       "      <td>1243</td>\n",
       "    </tr>\n",
       "    <tr>\n",
       "      <th>MEDIUM</th>\n",
       "      <td>854</td>\n",
       "    </tr>\n",
       "    <tr>\n",
       "      <th>NONE</th>\n",
       "      <td>13</td>\n",
       "    </tr>\n",
       "  </tbody>\n",
       "</table>\n",
       "</div>"
      ],
      "text/plain": [
       "                 count\n",
       "currency impact       \n",
       "EUR      HIGH      229\n",
       "         LOW      1390\n",
       "         MEDIUM    629\n",
       "         NONE       48\n",
       "USD      HIGH      238\n",
       "         LOW      1243\n",
       "         MEDIUM    854\n",
       "         NONE       13"
      ]
     },
     "execution_count": 122,
     "metadata": {},
     "output_type": "execute_result"
    }
   ],
   "source": [
    "#news = news[news.duplicated(subset=['title'], keep=False)]\n",
    "news.groupby(['currency', 'impact']).title.agg(['count'])"
   ]
  },
  {
   "cell_type": "markdown",
   "metadata": {},
   "source": [
    "Видно, что больше всего новостей слабого влияния LOW, затем среднего MEDIUM. Меньше - сильных HIGH, и совсем мало - новостей без обозначенного влияния NONE (например, праздники). При этом соотношение числа новостей для подгрупп по валютам EUR и USD  сопоставимо.\n",
    "\n",
    "Добавим колонки о силе новостей и валютной паре в датасет котировок, чтобы затем проанализировать зависимость от получившихся групп.\n",
    "Выделим соответственно 8 новостных категорий (столбцов):\n",
    "* EUR_NONE\n",
    "* EUR_LOW\n",
    "* EUR_MEDIUM\n",
    "* EUR_HIGH\n",
    "* USD_NONE\n",
    "* USD_LOW\n",
    "* USD_MEDIUM\n",
    "* USD_HIGH\n",
    "\n",
    "В значениях поставим число новостей данной категории в день."
   ]
  },
  {
   "cell_type": "code",
   "execution_count": 174,
   "metadata": {},
   "outputs": [
    {
     "data": {
      "text/html": [
       "<div>\n",
       "<style scoped>\n",
       "    .dataframe tbody tr th:only-of-type {\n",
       "        vertical-align: middle;\n",
       "    }\n",
       "\n",
       "    .dataframe tbody tr th {\n",
       "        vertical-align: top;\n",
       "    }\n",
       "\n",
       "    .dataframe thead th {\n",
       "        text-align: right;\n",
       "    }\n",
       "</style>\n",
       "<table border=\"1\" class=\"dataframe\">\n",
       "  <thead>\n",
       "    <tr style=\"text-align: right;\">\n",
       "      <th></th>\n",
       "      <th>Open</th>\n",
       "      <th>High</th>\n",
       "      <th>Low</th>\n",
       "      <th>Close</th>\n",
       "      <th>Volume</th>\n",
       "      <th>volatility</th>\n",
       "      <th>uptrend</th>\n",
       "      <th>EUR_HIGH</th>\n",
       "      <th>EUR_LOW</th>\n",
       "      <th>EUR_MEDIUM</th>\n",
       "      <th>EUR_NONE</th>\n",
       "      <th>USD_HIGH</th>\n",
       "      <th>USD_LOW</th>\n",
       "      <th>USD_MEDIUM</th>\n",
       "      <th>USD_NONE</th>\n",
       "    </tr>\n",
       "    <tr>\n",
       "      <th>date</th>\n",
       "      <th></th>\n",
       "      <th></th>\n",
       "      <th></th>\n",
       "      <th></th>\n",
       "      <th></th>\n",
       "      <th></th>\n",
       "      <th></th>\n",
       "      <th></th>\n",
       "      <th></th>\n",
       "      <th></th>\n",
       "      <th></th>\n",
       "      <th></th>\n",
       "      <th></th>\n",
       "      <th></th>\n",
       "      <th></th>\n",
       "    </tr>\n",
       "  </thead>\n",
       "  <tbody>\n",
       "    <tr>\n",
       "      <th>2020-01-01</th>\n",
       "      <td>1.12076</td>\n",
       "      <td>1.12218</td>\n",
       "      <td>1.12076</td>\n",
       "      <td>1.12188</td>\n",
       "      <td>2592.0700</td>\n",
       "      <td>141</td>\n",
       "      <td>True</td>\n",
       "      <td>0</td>\n",
       "      <td>0</td>\n",
       "      <td>0</td>\n",
       "      <td>0</td>\n",
       "      <td>0</td>\n",
       "      <td>0</td>\n",
       "      <td>0</td>\n",
       "      <td>1</td>\n",
       "    </tr>\n",
       "    <tr>\n",
       "      <th>2020-01-02</th>\n",
       "      <td>1.12188</td>\n",
       "      <td>1.12245</td>\n",
       "      <td>1.11635</td>\n",
       "      <td>1.11708</td>\n",
       "      <td>487219.1160</td>\n",
       "      <td>609</td>\n",
       "      <td>False</td>\n",
       "      <td>0</td>\n",
       "      <td>4</td>\n",
       "      <td>1</td>\n",
       "      <td>0</td>\n",
       "      <td>0</td>\n",
       "      <td>3</td>\n",
       "      <td>3</td>\n",
       "      <td>0</td>\n",
       "    </tr>\n",
       "    <tr>\n",
       "      <th>2020-01-03</th>\n",
       "      <td>1.11707</td>\n",
       "      <td>1.11798</td>\n",
       "      <td>1.11249</td>\n",
       "      <td>1.11548</td>\n",
       "      <td>177406.7897</td>\n",
       "      <td>548</td>\n",
       "      <td>False</td>\n",
       "      <td>1</td>\n",
       "      <td>9</td>\n",
       "      <td>2</td>\n",
       "      <td>0</td>\n",
       "      <td>2</td>\n",
       "      <td>6</td>\n",
       "      <td>4</td>\n",
       "      <td>0</td>\n",
       "    </tr>\n",
       "    <tr>\n",
       "      <th>2020-01-04</th>\n",
       "      <td>1.11548</td>\n",
       "      <td>1.11548</td>\n",
       "      <td>1.11548</td>\n",
       "      <td>1.11548</td>\n",
       "      <td>0.0000</td>\n",
       "      <td>0</td>\n",
       "      <td>False</td>\n",
       "      <td>0</td>\n",
       "      <td>0</td>\n",
       "      <td>0</td>\n",
       "      <td>0</td>\n",
       "      <td>0</td>\n",
       "      <td>0</td>\n",
       "      <td>0</td>\n",
       "      <td>0</td>\n",
       "    </tr>\n",
       "    <tr>\n",
       "      <th>2020-01-05</th>\n",
       "      <td>1.11548</td>\n",
       "      <td>1.11677</td>\n",
       "      <td>1.11548</td>\n",
       "      <td>1.11604</td>\n",
       "      <td>4398.1000</td>\n",
       "      <td>129</td>\n",
       "      <td>True</td>\n",
       "      <td>0</td>\n",
       "      <td>0</td>\n",
       "      <td>1</td>\n",
       "      <td>2</td>\n",
       "      <td>0</td>\n",
       "      <td>0</td>\n",
       "      <td>0</td>\n",
       "      <td>0</td>\n",
       "    </tr>\n",
       "  </tbody>\n",
       "</table>\n",
       "</div>"
      ],
      "text/plain": [
       "               Open     High      Low    Close       Volume  volatility  \\\n",
       "date                                                                      \n",
       "2020-01-01  1.12076  1.12218  1.12076  1.12188    2592.0700         141   \n",
       "2020-01-02  1.12188  1.12245  1.11635  1.11708  487219.1160         609   \n",
       "2020-01-03  1.11707  1.11798  1.11249  1.11548  177406.7897         548   \n",
       "2020-01-04  1.11548  1.11548  1.11548  1.11548       0.0000           0   \n",
       "2020-01-05  1.11548  1.11677  1.11548  1.11604    4398.1000         129   \n",
       "\n",
       "            uptrend  EUR_HIGH  EUR_LOW  EUR_MEDIUM  EUR_NONE  USD_HIGH  \\\n",
       "date                                                                     \n",
       "2020-01-01     True         0        0           0         0         0   \n",
       "2020-01-02    False         0        4           1         0         0   \n",
       "2020-01-03    False         1        9           2         0         2   \n",
       "2020-01-04    False         0        0           0         0         0   \n",
       "2020-01-05     True         0        0           1         2         0   \n",
       "\n",
       "            USD_LOW  USD_MEDIUM  USD_NONE  \n",
       "date                                       \n",
       "2020-01-01        0           0         1  \n",
       "2020-01-02        3           3         0  \n",
       "2020-01-03        6           4         0  \n",
       "2020-01-04        0           0         0  \n",
       "2020-01-05        0           0         0  "
      ]
     },
     "execution_count": 174,
     "metadata": {},
     "output_type": "execute_result"
    }
   ],
   "source": [
    "d1_news = news\n",
    "d1_news['news_cat'] = d1_news.currency + '_' + d1_news.impact\n",
    "lst_news_cat = d1_news['news_cat'].unique() # используется позже\n",
    "d1_news = pd.get_dummies(d1_news.news_cat).resample('D').sum()\n",
    "d1 = d1_quotes.join(d1_news)\n",
    "d1.head()"
   ]
  },
  {
   "cell_type": "markdown",
   "metadata": {},
   "source": [
    "Зависимость волатильности и направления от кол-ва новостей в день"
   ]
  },
  {
   "cell_type": "code",
   "execution_count": 286,
   "metadata": {},
   "outputs": [
    {
     "data": {
      "text/plain": [
       "<seaborn.axisgrid.FacetGrid at 0x137c1a9c400>"
      ]
     },
     "execution_count": 286,
     "metadata": {},
     "output_type": "execute_result"
    },
    {
     "data": {
      "image/png": "[encoded data removed]",
      "text/plain": [
       "<Figure size 421.25x360 with 1 Axes>"
      ]
     },
     "metadata": {
      "needs_background": "light"
     },
     "output_type": "display_data"
    }
   ],
   "source": [
    "news_count = d1[lst_news_cat].sum(axis=1)\n",
    "news_count.name = 'news_count'\n",
    "sns.relplot(data=d1, x=news_count, y='volatility', hue='uptrend')"
   ]
  },
  {
   "cell_type": "markdown",
   "metadata": {},
   "source": [
    "Волатильность ожидаемо растет с ростом числа новостей в день. Начиная со значения 5 и более новостей волатильность остается в одном диапозоне 600-800 пунктов в день с некоторым повышением до 1000 и больше пунктов, что чаще проявляется после с 28 новостей в день, но в целом дней с таким числом новостей уже мало."
   ]
  },
  {
   "cell_type": "markdown",
   "metadata": {},
   "source": [
    "Цветом выделены дни, закрывающиеся с повышением. Серьезной зависимости не наблюдается. \"Бычьи дни\" случаются при любом кол-ве новостей. Единственное, выбросы с большой волатильностью до 3000 пунктов в день в 2020 году были именно с понижением (синий цвет)."
   ]
  },
  {
   "cell_type": "markdown",
   "metadata": {},
   "source": [
    "Зависимость волатильности и направления от валюты, по которой выходят новости"
   ]
  },
  {
   "cell_type": "code",
   "execution_count": 242,
   "metadata": {},
   "outputs": [
    {
     "name": "stdout",
     "output_type": "stream",
     "text": [
      "      uptrend  volatility\n",
      "usd  0.601361  764.981501\n",
      "eur  0.550035  813.784195\n"
     ]
    },
    {
     "data": {
      "text/plain": [
       "<matplotlib.legend.Legend at 0x137bcccd4f0>"
      ]
     },
     "execution_count": 242,
     "metadata": {},
     "output_type": "execute_result"
    },
    {
     "data": {
      "image/png": "[encoded data removed]",
      "text/plain": [
       "<Figure size 432x288 with 2 Axes>"
      ]
     },
     "metadata": {
      "needs_background": "light"
     },
     "output_type": "display_data"
    }
   ],
   "source": [
    "usd_pivot = d1.pivot_table(index=[d1['USD_NONE']+d1['USD_LOW']+d1['USD_MEDIUM']+d1['USD_HIGH']],\\\n",
    "    values=['volatility', 'uptrend'], aggfunc=['mean'])['mean'].mean()\n",
    "eur_pivot = d1.pivot_table(index=[d1['EUR_NONE']+d1['EUR_LOW']+d1['EUR_MEDIUM']+d1['EUR_HIGH']],\\\n",
    "    values=['volatility', 'uptrend'], aggfunc=['mean'])['mean'].mean()\n",
    "usd_pivot.name='usd'\n",
    "eur_pivot.name='eur'\n",
    "eur_usd_pivot = usd_pivot.to_frame().join(eur_pivot.to_frame()).T\n",
    "print(eur_usd_pivot)\n",
    "eur_usd_pivot.plot(kind='bar', secondary_y='uptrend', grid=True).legend(loc='best')"
   ]
  },
  {
   "cell_type": "markdown",
   "metadata": {},
   "source": [
    "Видно, что в дни, когда выходят новости по EUR волатильность EUR/USD выше (814 > 765). При этом вероятность, что день закроется повышением цены, была в 2020 выше в те дни, когда выходят новости по USD (60% > 55%)\n",
    "\n",
    "**Замечание**: в один и тот же день могут быть новости, как по EUR, так и по USD. Поэтому далее надо провести более чистый эксперимент. Например, более точной будет проверка на часовиках, создание коэффициента преобладания валюты в рассматриваемый период и др."
   ]
  },
  {
   "cell_type": "markdown",
   "metadata": {},
   "source": [
    "Зависимость от импакта новости. "
   ]
  },
  {
   "cell_type": "code",
   "execution_count": 341,
   "metadata": {},
   "outputs": [
    {
     "name": "stdout",
     "output_type": "stream",
     "text": [
      "                  none         low      medium        high\n",
      "uptrend       0.460732    0.542259    0.560482    0.672827\n",
      "volatility  564.887753  802.097284  775.140665  905.719715\n"
     ]
    },
    {
     "data": {
      "text/plain": [
       "<AxesSubplot:>"
      ]
     },
     "execution_count": 341,
     "metadata": {},
     "output_type": "execute_result"
    },
    {
     "data": {
      "image/png": "[encoded data removed]",
      "text/plain": [
       "<Figure size 432x288 with 2 Axes>"
      ]
     },
     "metadata": {
      "needs_background": "light"
     },
     "output_type": "display_data"
    }
   ],
   "source": [
    "none_pivot = d1.pivot_table(index=[d1['USD_NONE']+d1['EUR_NONE']],\\\n",
    "    values=['volatility', 'uptrend'], aggfunc=['mean'])['mean'].mean().to_frame()\n",
    "low_pivot = d1.pivot_table(index=[d1['USD_LOW']+d1['EUR_LOW']],\\\n",
    "    values=['volatility', 'uptrend'], aggfunc=['mean'])['mean'].mean().to_frame()\n",
    "medium_pivot = d1.pivot_table(index=[d1['USD_MEDIUM']+d1['EUR_MEDIUM']],\\\n",
    "    values=['volatility', 'uptrend'], aggfunc=['mean'])['mean'].mean().to_frame()\n",
    "high_pivot = d1.pivot_table(index=[d1['USD_HIGH']+d1['EUR_HIGH']],\\\n",
    "    values=['volatility', 'uptrend'], aggfunc=['mean'])['mean'].mean().to_frame()\n",
    "impact_pivot = pd.concat([none_pivot, low_pivot, medium_pivot, high_pivot], axis=1)\n",
    "impact_pivot.columns = ['none', 'low', 'medium', 'high']\n",
    "print(impact_pivot)\n",
    "impact_pivot.T.plot(kind='bar', secondary_y='uptrend')"
   ]
  },
  {
   "cell_type": "markdown",
   "metadata": {},
   "source": [
    "Прослеживается рост волатильности и вероятности аптренда по мере роста номинального импакта новости. \n",
    "\n",
    "Проведем более деатльный разбор по категориям."
   ]
  },
  {
   "cell_type": "code",
   "execution_count": 175,
   "metadata": {},
   "outputs": [],
   "source": [
    "pivot_news = {}\n",
    "for cat in lst_news_cat:\n",
    "    pivot_news[cat] = d1.pivot_table(index=[cat],\\\n",
    "        values=['volatility', 'uptrend'], aggfunc=['mean'])['mean']"
   ]
  },
  {
   "cell_type": "code",
   "execution_count": 342,
   "metadata": {},
   "outputs": [
    {
     "data": {
      "image/png": "[encoded data removed]",
      "text/plain": [
       "<Figure size 432x288 with 2 Axes>"
      ]
     },
     "metadata": {
      "needs_background": "light"
     },
     "output_type": "display_data"
    },
    {
     "data": {
      "image/png": "[encoded data removed]",
      "text/plain": [
       "<Figure size 432x288 with 2 Axes>"
      ]
     },
     "metadata": {
      "needs_background": "light"
     },
     "output_type": "display_data"
    },
    {
     "data": {
      "image/png": "[encoded data removed]",
      "text/plain": [
       "<Figure size 432x288 with 2 Axes>"
      ]
     },
     "metadata": {
      "needs_background": "light"
     },
     "output_type": "display_data"
    },
    {
     "data": {
      "image/png": "[encoded data removed]",
      "text/plain": [
       "<Figure size 432x288 with 2 Axes>"
      ]
     },
     "metadata": {
      "needs_background": "light"
     },
     "output_type": "display_data"
    }
   ],
   "source": [
    "# для новостей USD\n",
    "for cat in ('USD_NONE', 'USD_LOW', 'USD_MEDIUM', 'USD_HIGH'):\n",
    "    pivot_news[cat].plot(kind='bar', secondary_y='uptrend')"
   ]
  },
  {
   "cell_type": "code",
   "execution_count": 343,
   "metadata": {},
   "outputs": [
    {
     "data": {
      "image/png": "[encoded data removed]",
      "text/plain": [
       "<Figure size 432x288 with 2 Axes>"
      ]
     },
     "metadata": {
      "needs_background": "light"
     },
     "output_type": "display_data"
    },
    {
     "data": {
      "image/png": "[encoded data removed]",
      "text/plain": [
       "<Figure size 432x288 with 2 Axes>"
      ]
     },
     "metadata": {
      "needs_background": "light"
     },
     "output_type": "display_data"
    },
    {
     "data": {
      "image/png": "[encoded data removed]",
      "text/plain": [
       "<Figure size 432x288 with 2 Axes>"
      ]
     },
     "metadata": {
      "needs_background": "light"
     },
     "output_type": "display_data"
    },
    {
     "data": {
      "image/png": "[encoded data removed]",
      "text/plain": [
       "<Figure size 432x288 with 2 Axes>"
      ]
     },
     "metadata": {
      "needs_background": "light"
     },
     "output_type": "display_data"
    }
   ],
   "source": [
    "# для новостей EUR\n",
    "for cat in ('EUR_NONE', 'EUR_LOW', 'EUR_MEDIUM', 'EUR_HIGH'):\n",
    "    pivot_news[cat].plot(kind='bar', secondary_y='uptrend')"
   ]
  },
  {
   "cell_type": "markdown",
   "metadata": {},
   "source": [
    "Для категорий LOW, MEDIUM, HIGH почти всегда видим рост волатильности по мере увеличения числа, как EUR-, так и USD-новостей.\n",
    "\n",
    "В целом, с ростом числа новостей и с ростом импакта растет волатильность внутри дня.\n",
    "\n",
    "Для дальнейшего исследования предлагается рассмотреть часовой (или ниже) таймфрейм и конкретные регулярные новости, что позволит более точно обнаружить взаимосвязь повторяющихся новостей с волатильностью и направлением.\n",
    "\n",
    "Предполагается, что работа поможет пересмотреть влияние ряда новостей на волатильность рынка. Как минимум, можно будет сделать выводы по влиянию топа регулярных новостей"
   ]
  },
  {
   "cell_type": "code",
   "execution_count": 345,
   "metadata": {},
   "outputs": [
    {
     "data": {
      "text/plain": [
       "Markit Manufacturing PMI                 120\n",
       "Markit Services PMI                      120\n",
       "Consumer Price Index (YoY)               108\n",
       "Consumer Price Index (MoM)                96\n",
       "Markit PMI Composite                      96\n",
       "Consumer Confidence                       59\n",
       "Initial Jobless Claims                    53\n",
       "EIA Crude Oil Stocks Change               53\n",
       "4-Week Bill Auction                       53\n",
       "EIA Natural Gas Storage Change            53\n",
       "Baker Hughes US Oil Rig Count             53\n",
       "Initial Jobless Claims 4-week average     53\n",
       "Continuing Jobless Claims                 53\n",
       "CFTC EUR NC Net Positions                 52\n",
       "Redbook Index (MoM)                       52\n",
       "Redbook Index (YoY)                       52\n",
       "CFTC Oil NC Net Positions                 52\n",
       "CFTC Gold NC Net Positions                52\n",
       "API Weekly Crude Oil Stock                52\n",
       "3-Month Bill Auction                      51\n",
       "Name: title, dtype: int64"
      ]
     },
     "execution_count": 345,
     "metadata": {},
     "output_type": "execute_result"
    }
   ],
   "source": [
    "news.title.value_counts().head(20)"
   ]
  },
  {
   "cell_type": "markdown",
   "metadata": {},
   "source": [
    "### Продолжение следует..."
   ]
  }
 ],
 "metadata": {
  "interpreter": {
   "hash": "4ce0e62306dd6a5716965d4519ada776f947e6dfc145b604b11307c10277ef29"
  },
  "kernelspec": {
   "display_name": "Python 3.8.5 64-bit",
   "language": "python",
   "name": "python3"
  },
  "language_info": {
   "codemirror_mode": {
    "name": "ipython",
    "version": 3
   },
   "file_extension": ".py",
   "mimetype": "text/x-python",
   "name": "python",
   "nbconvert_exporter": "python",
   "pygments_lexer": "ipython3",
   "version": "3.8.5"
  },
  "orig_nbformat": 4
 },
 "nbformat": 4,
 "nbformat_minor": 2
}
