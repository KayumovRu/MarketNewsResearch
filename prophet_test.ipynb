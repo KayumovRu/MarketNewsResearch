{
 "cells": [
  {
   "cell_type": "markdown",
   "metadata": {},
   "source": [
    "Здесь неудавшаяся модель на fbprophet, не успел ее довести до ума"
   ]
  },
  {
   "cell_type": "code",
   "execution_count": null,
   "metadata": {},
   "outputs": [],
   "source": [
    "# группируем минутки в данные h1 и добавляем волатильность \n",
    "ohlc_dict = {'Open':'first', 'High':'max', 'Low':'min', 'Close': 'last'}\n",
    "h1_quotes = m1_quotes.resample('H').apply(ohlc_dict)\n",
    "#h1_quotes = h1_quotes[h1_quotes.index.weekday < 5] # удаляем СБ и ВСК с нулевой волатильностью по итогам 1 этапа\n",
    "# волатильность - амплитуду движения за день - считаем в пунктах по 5-му знаку,\n",
    "# умножая для этого на 10^5\n",
    "h1_quotes['volatility'] = (abs(h1_quotes.High - h1_quotes.Low) * 10**5).astype(int)\n",
    "h1_quotes = h1_quotes.drop(['Open', 'High', 'Low', 'Close'], axis=1)\n",
    "h1_quotes[100:].head()"
   ]
  },
  {
   "cell_type": "code",
   "execution_count": null,
   "metadata": {},
   "outputs": [],
   "source": [
    "# делим данные в соотношение 3/4\n",
    "\n",
    "df = sparse_news_h1.reset_index()\n",
    "df = df.rename(columns={'date': 'ds', 'volatility': 'y'})\n",
    "\n",
    "df_train = df[:int(rows_num*.75)]\n",
    "df_test = df[int(rows_num*.75):]\n",
    "\n",
    "# на столько будем прогнозировать\n",
    "predictions = (df_test['ds'].iloc[-1] - df_test['ds'].iloc[0]).days\n",
    "\n",
    "#y_train = df_train.volatility\n",
    "#y_test = df_test.volatility\n",
    "#X_train = df_train.drop('volatility', axis=1)\n",
    "#X_test = df_test.drop('volatility', axis=1)"
   ]
  },
  {
   "cell_type": "markdown",
   "metadata": {},
   "source": [
    "### Обучение модели\n",
    "\n",
    "Используем библиотеку FB для работы с временными рядами - fbprophet. Бибилотека умеет работать с временными данными без предварительной подготовки, выделяя самостоятельно сезонные зависимости, но в учебных целях выделение и кодирование часов и дня недели выше выполнено."
   ]
  },
  {
   "cell_type": "code",
   "execution_count": null,
   "metadata": {},
   "outputs": [],
   "source": [
    "from fbprophet import Prophet\n",
    "model = Prophet()\n",
    "model.fit(df_train)"
   ]
  },
  {
   "cell_type": "markdown",
   "metadata": {},
   "source": [
    "При обучении модели автоматически отключилась годовая сезонность, что ожидаемо, т.к. рассматриваются данные внутри одного года"
   ]
  },
  {
   "cell_type": "code",
   "execution_count": null,
   "metadata": {},
   "outputs": [],
   "source": [
    "# С помощью вспомогательной функции Prophet.make_future_dataframe создаем dataframe,\n",
    "# который содержит все исторические временные точки и еще predictions дней, для которых планируем построить прогноз\n",
    "future = model.make_future_dataframe(periods=90)\n",
    "forecast = model.predict(future)\n",
    "forecast.head(3)"
   ]
  },
  {
   "cell_type": "code",
   "execution_count": null,
   "metadata": {},
   "outputs": [],
   "source": [
    "model.plot(forecast);"
   ]
  },
  {
   "cell_type": "code",
   "execution_count": null,
   "metadata": {},
   "outputs": [],
   "source": [
    "model.plot_components(forecast);"
   ]
  },
  {
   "cell_type": "code",
   "execution_count": null,
   "metadata": {},
   "outputs": [],
   "source": [
    "forecast.set_index('ds')[['yhat']].join(df_test[['y', 'ds']].set_index('ds'))"
   ]
  }
 ],
 "metadata": {
  "language_info": {
   "name": "python"
  },
  "orig_nbformat": 4
 },
 "nbformat": 4,
 "nbformat_minor": 2
}
